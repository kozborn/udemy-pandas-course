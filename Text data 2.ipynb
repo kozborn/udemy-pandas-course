{
 "cells": [
  {
   "cell_type": "markdown",
   "metadata": {},
   "source": [
    "## working text data"
   ]
  },
  {
   "cell_type": "markdown",
   "metadata": {},
   "source": [
    "## .strip() .lstrip() .rstrip() methods"
   ]
  },
  {
   "cell_type": "code",
   "execution_count": 6,
   "metadata": {},
   "outputs": [
    {
     "data": {
      "text/html": [
       "<div>\n",
       "<style scoped>\n",
       "    .dataframe tbody tr th:only-of-type {\n",
       "        vertical-align: middle;\n",
       "    }\n",
       "\n",
       "    .dataframe tbody tr th {\n",
       "        vertical-align: top;\n",
       "    }\n",
       "\n",
       "    .dataframe thead th {\n",
       "        text-align: right;\n",
       "    }\n",
       "</style>\n",
       "<table border=\"1\" class=\"dataframe\">\n",
       "  <thead>\n",
       "    <tr style=\"text-align: right;\">\n",
       "      <th></th>\n",
       "      <th>Name</th>\n",
       "      <th>Position Title</th>\n",
       "      <th>Department</th>\n",
       "      <th>Employee Annual Salary</th>\n",
       "    </tr>\n",
       "  </thead>\n",
       "  <tbody>\n",
       "    <tr>\n",
       "      <th>0</th>\n",
       "      <td>AARON,  ELVIA J</td>\n",
       "      <td>WATER RATE TAKER</td>\n",
       "      <td>WATER MGMNT</td>\n",
       "      <td>$90744.00</td>\n",
       "    </tr>\n",
       "    <tr>\n",
       "      <th>1</th>\n",
       "      <td>AARON,  JEFFERY M</td>\n",
       "      <td>POLICE OFFICER</td>\n",
       "      <td>POLICE</td>\n",
       "      <td>$84450.00</td>\n",
       "    </tr>\n",
       "    <tr>\n",
       "      <th>2</th>\n",
       "      <td>AARON,  KARINA</td>\n",
       "      <td>POLICE OFFICER</td>\n",
       "      <td>POLICE</td>\n",
       "      <td>$84450.00</td>\n",
       "    </tr>\n",
       "    <tr>\n",
       "      <th>3</th>\n",
       "      <td>AARON,  KIMBERLEI R</td>\n",
       "      <td>CHIEF CONTRACT EXPEDITER</td>\n",
       "      <td>GENERAL SERVICES</td>\n",
       "      <td>$89880.00</td>\n",
       "    </tr>\n",
       "    <tr>\n",
       "      <th>4</th>\n",
       "      <td>ABAD JR,  VICENTE M</td>\n",
       "      <td>CIVIL ENGINEER IV</td>\n",
       "      <td>WATER MGMNT</td>\n",
       "      <td>$106836.00</td>\n",
       "    </tr>\n",
       "  </tbody>\n",
       "</table>\n",
       "</div>"
      ],
      "text/plain": [
       "                  Name            Position Title        Department  \\\n",
       "0      AARON,  ELVIA J          WATER RATE TAKER       WATER MGMNT   \n",
       "1    AARON,  JEFFERY M            POLICE OFFICER            POLICE   \n",
       "2       AARON,  KARINA            POLICE OFFICER            POLICE   \n",
       "3  AARON,  KIMBERLEI R  CHIEF CONTRACT EXPEDITER  GENERAL SERVICES   \n",
       "4  ABAD JR,  VICENTE M         CIVIL ENGINEER IV       WATER MGMNT   \n",
       "\n",
       "  Employee Annual Salary  \n",
       "0              $90744.00  \n",
       "1              $84450.00  \n",
       "2              $84450.00  \n",
       "3              $89880.00  \n",
       "4             $106836.00  "
      ]
     },
     "execution_count": 6,
     "metadata": {},
     "output_type": "execute_result"
    }
   ],
   "source": [
    "import pandas as pd\n",
    "chicago = pd.read_csv('./data/chicago.csv').dropna(how='all')\n",
    "chicago['Department'] = chicago['Department'].astype('category') \n",
    "chicago['Position Title'] = chicago['Position Title'].astype('category') \n",
    "chicago.head()\n",
    "\n"
   ]
  },
  {
   "cell_type": "code",
   "execution_count": 7,
   "metadata": {},
   "outputs": [
    {
     "name": "stdout",
     "output_type": "stream",
     "text": [
      "Hello world\n",
      "Hello world   \n",
      "    Hello world\n"
     ]
    }
   ],
   "source": [
    "print(\"    Hello world   \".strip())\n",
    "print(\"    Hello world   \".lstrip())\n",
    "print(\"    Hello world   \".rstrip())"
   ]
  },
  {
   "cell_type": "code",
   "execution_count": 11,
   "metadata": {},
   "outputs": [],
   "source": [
    "for col in chicago.columns:\n",
    "    chicago[col] = chicago[col].str.strip()"
   ]
  },
  {
   "cell_type": "markdown",
   "metadata": {},
   "source": [
    "## string methods on index and columns"
   ]
  },
  {
   "cell_type": "code",
   "execution_count": 12,
   "metadata": {},
   "outputs": [
    {
     "data": {
      "text/html": [
       "<div>\n",
       "<style scoped>\n",
       "    .dataframe tbody tr th:only-of-type {\n",
       "        vertical-align: middle;\n",
       "    }\n",
       "\n",
       "    .dataframe tbody tr th {\n",
       "        vertical-align: top;\n",
       "    }\n",
       "\n",
       "    .dataframe thead th {\n",
       "        text-align: right;\n",
       "    }\n",
       "</style>\n",
       "<table border=\"1\" class=\"dataframe\">\n",
       "  <thead>\n",
       "    <tr style=\"text-align: right;\">\n",
       "      <th></th>\n",
       "      <th>Position Title</th>\n",
       "      <th>Department</th>\n",
       "      <th>Employee Annual Salary</th>\n",
       "    </tr>\n",
       "    <tr>\n",
       "      <th>Name</th>\n",
       "      <th></th>\n",
       "      <th></th>\n",
       "      <th></th>\n",
       "    </tr>\n",
       "  </thead>\n",
       "  <tbody>\n",
       "    <tr>\n",
       "      <th>AARON,  ELVIA J</th>\n",
       "      <td>WATER RATE TAKER</td>\n",
       "      <td>WATER MGMNT</td>\n",
       "      <td>$90744.00</td>\n",
       "    </tr>\n",
       "    <tr>\n",
       "      <th>AARON,  JEFFERY M</th>\n",
       "      <td>POLICE OFFICER</td>\n",
       "      <td>POLICE</td>\n",
       "      <td>$84450.00</td>\n",
       "    </tr>\n",
       "    <tr>\n",
       "      <th>AARON,  KARINA</th>\n",
       "      <td>POLICE OFFICER</td>\n",
       "      <td>POLICE</td>\n",
       "      <td>$84450.00</td>\n",
       "    </tr>\n",
       "    <tr>\n",
       "      <th>AARON,  KIMBERLEI R</th>\n",
       "      <td>CHIEF CONTRACT EXPEDITER</td>\n",
       "      <td>GENERAL SERVICES</td>\n",
       "      <td>$89880.00</td>\n",
       "    </tr>\n",
       "    <tr>\n",
       "      <th>ABAD JR,  VICENTE M</th>\n",
       "      <td>CIVIL ENGINEER IV</td>\n",
       "      <td>WATER MGMNT</td>\n",
       "      <td>$106836.00</td>\n",
       "    </tr>\n",
       "  </tbody>\n",
       "</table>\n",
       "</div>"
      ],
      "text/plain": [
       "                               Position Title        Department  \\\n",
       "Name                                                              \n",
       "AARON,  ELVIA J              WATER RATE TAKER       WATER MGMNT   \n",
       "AARON,  JEFFERY M              POLICE OFFICER            POLICE   \n",
       "AARON,  KARINA                 POLICE OFFICER            POLICE   \n",
       "AARON,  KIMBERLEI R  CHIEF CONTRACT EXPEDITER  GENERAL SERVICES   \n",
       "ABAD JR,  VICENTE M         CIVIL ENGINEER IV       WATER MGMNT   \n",
       "\n",
       "                    Employee Annual Salary  \n",
       "Name                                        \n",
       "AARON,  ELVIA J                  $90744.00  \n",
       "AARON,  JEFFERY M                $84450.00  \n",
       "AARON,  KARINA                   $84450.00  \n",
       "AARON,  KIMBERLEI R              $89880.00  \n",
       "ABAD JR,  VICENTE M             $106836.00  "
      ]
     },
     "execution_count": 12,
     "metadata": {},
     "output_type": "execute_result"
    }
   ],
   "source": [
    "chicago = pd.read_csv('./data/chicago.csv', index_col=\"Name\").dropna(how='all')\n",
    "chicago['Department'] = chicago['Department'].astype('category') \n",
    "chicago['Position Title'] = chicago['Position Title'].astype('category') \n",
    "chicago.head()"
   ]
  },
  {
   "cell_type": "code",
   "execution_count": 17,
   "metadata": {},
   "outputs": [
    {
     "data": {
      "text/html": [
       "<div>\n",
       "<style scoped>\n",
       "    .dataframe tbody tr th:only-of-type {\n",
       "        vertical-align: middle;\n",
       "    }\n",
       "\n",
       "    .dataframe tbody tr th {\n",
       "        vertical-align: top;\n",
       "    }\n",
       "\n",
       "    .dataframe thead th {\n",
       "        text-align: right;\n",
       "    }\n",
       "</style>\n",
       "<table border=\"1\" class=\"dataframe\">\n",
       "  <thead>\n",
       "    <tr style=\"text-align: right;\">\n",
       "      <th></th>\n",
       "      <th>POSITION TITLE</th>\n",
       "      <th>DEPARTMENT</th>\n",
       "      <th>EMPLOYEE ANNUAL SALARY</th>\n",
       "    </tr>\n",
       "    <tr>\n",
       "      <th>Name</th>\n",
       "      <th></th>\n",
       "      <th></th>\n",
       "      <th></th>\n",
       "    </tr>\n",
       "  </thead>\n",
       "  <tbody>\n",
       "    <tr>\n",
       "      <th>Aaron,  Elvia J</th>\n",
       "      <td>WATER RATE TAKER</td>\n",
       "      <td>WATER MGMNT</td>\n",
       "      <td>$90744.00</td>\n",
       "    </tr>\n",
       "    <tr>\n",
       "      <th>Aaron,  Jeffery M</th>\n",
       "      <td>POLICE OFFICER</td>\n",
       "      <td>POLICE</td>\n",
       "      <td>$84450.00</td>\n",
       "    </tr>\n",
       "    <tr>\n",
       "      <th>Aaron,  Karina</th>\n",
       "      <td>POLICE OFFICER</td>\n",
       "      <td>POLICE</td>\n",
       "      <td>$84450.00</td>\n",
       "    </tr>\n",
       "    <tr>\n",
       "      <th>Aaron,  Kimberlei R</th>\n",
       "      <td>CHIEF CONTRACT EXPEDITER</td>\n",
       "      <td>GENERAL SERVICES</td>\n",
       "      <td>$89880.00</td>\n",
       "    </tr>\n",
       "    <tr>\n",
       "      <th>Abad Jr,  Vicente M</th>\n",
       "      <td>CIVIL ENGINEER IV</td>\n",
       "      <td>WATER MGMNT</td>\n",
       "      <td>$106836.00</td>\n",
       "    </tr>\n",
       "  </tbody>\n",
       "</table>\n",
       "</div>"
      ],
      "text/plain": [
       "                               POSITION TITLE        DEPARTMENT  \\\n",
       "Name                                                              \n",
       "Aaron,  Elvia J              WATER RATE TAKER       WATER MGMNT   \n",
       "Aaron,  Jeffery M              POLICE OFFICER            POLICE   \n",
       "Aaron,  Karina                 POLICE OFFICER            POLICE   \n",
       "Aaron,  Kimberlei R  CHIEF CONTRACT EXPEDITER  GENERAL SERVICES   \n",
       "Abad Jr,  Vicente M         CIVIL ENGINEER IV       WATER MGMNT   \n",
       "\n",
       "                    EMPLOYEE ANNUAL SALARY  \n",
       "Name                                        \n",
       "Aaron,  Elvia J                  $90744.00  \n",
       "Aaron,  Jeffery M                $84450.00  \n",
       "Aaron,  Karina                   $84450.00  \n",
       "Aaron,  Kimberlei R              $89880.00  \n",
       "Abad Jr,  Vicente M             $106836.00  "
      ]
     },
     "execution_count": 17,
     "metadata": {},
     "output_type": "execute_result"
    }
   ],
   "source": [
    "chicago.index = chicago.index.str.strip().str.title()\n",
    "chicago.columns = chicago.columns.str.strip().str.upper()\n",
    "chicago.head()\n"
   ]
  },
  {
   "cell_type": "markdown",
   "metadata": {},
   "source": [
    "## .split() method"
   ]
  },
  {
   "cell_type": "code",
   "execution_count": 18,
   "metadata": {},
   "outputs": [
    {
     "data": {
      "text/plain": [
       "['Hello', 'my', 'name', 'is', 'Piotr']"
      ]
     },
     "execution_count": 18,
     "metadata": {},
     "output_type": "execute_result"
    }
   ],
   "source": [
    "\"Hello my name is Piotr\".split(\" \")"
   ]
  },
  {
   "cell_type": "code",
   "execution_count": 45,
   "metadata": {},
   "outputs": [],
   "source": [
    "chicago = pd.read_csv('./data/chicago.csv', index_col=\"Name\").dropna(how='all')\n",
    "chicago['Department'] = chicago['Department'].astype('category') \n",
    "chicago['Position Title'] = chicago['Position Title'].astype('category') \n",
    "chicago = chicago.reset_index()"
   ]
  },
  {
   "cell_type": "code",
   "execution_count": 52,
   "metadata": {
    "collapsed": true
   },
   "outputs": [
    {
     "data": {
      "text/plain": [
       "Williams        293\n",
       "Johnson         244\n",
       "Smith           241\n",
       "Brown           185\n",
       "Jones           183\n",
       "Rodriguez       171\n",
       "Jackson         136\n",
       "Garcia          130\n",
       "Davis           127\n",
       "Hernandez       110\n",
       "Martinez        108\n",
       "Lopez           106\n",
       "Gonzalez        104\n",
       "Perez           100\n",
       "Wilson           94\n",
       "Rivera           90\n",
       "Thomas           89\n",
       "Anderson         82\n",
       "Torres           81\n",
       "Murphy           80\n",
       "Robinson         79\n",
       "Moore            78\n",
       "Sanchez          76\n",
       "Harris           76\n",
       "Miller           75\n",
       "Lewis            74\n",
       "Taylor           73\n",
       "Martin           72\n",
       "White            66\n",
       "Clark            66\n",
       "               ... \n",
       "Kapustianyk       1\n",
       "Tudisco Jr        1\n",
       "Bielesch          1\n",
       "Kadich            1\n",
       "Gagliardotto      1\n",
       "Tamimi            1\n",
       "Goecke            1\n",
       "Abramski          1\n",
       "Gurkan            1\n",
       "Lodwich           1\n",
       "Ruzas             1\n",
       "Neerose           1\n",
       "Bowersox          1\n",
       "Schenkel          1\n",
       "Norwood Iii       1\n",
       "Xue               1\n",
       "Runas             1\n",
       "Maglaras          1\n",
       "Romero Jr         1\n",
       "Hairston Jr       1\n",
       "Antonik           1\n",
       "Heitz             1\n",
       "Fleckenstein      1\n",
       "Henrichsen        1\n",
       "Gandia            1\n",
       "Dear              1\n",
       "Uchwal            1\n",
       "Keeran            1\n",
       "Oprondek          1\n",
       "Kinard            1\n",
       "Name: First Name, Length: 13829, dtype: int64"
      ]
     },
     "execution_count": 52,
     "metadata": {},
     "output_type": "execute_result"
    }
   ],
   "source": [
    "firstNames = chicago['Name'].str.split(',').str.get(0)\n",
    "lastNames = chicago['Name'].str.split(',').str.get(1)\n",
    "chicago['First Name'] = firstNames\n",
    "chicago['Last Name'] = lastNames\n",
    "chicago.head()\n",
    "chicago['First Name'].str.title().value_counts()\n"
   ]
  },
  {
   "cell_type": "code",
   "execution_count": 58,
   "metadata": {},
   "outputs": [
    {
     "data": {
      "text/plain": [
       "Police                   10856\n",
       "Firefighter-Emt           1509\n",
       "Sergeant                  1186\n",
       "Pool                       918\n",
       "Firefighter                810\n",
       "Crossing                   775\n",
       "Motor                      721\n",
       "Sanitation                 715\n",
       "Paramedic                  641\n",
       "Asst                       606\n",
       "Fire                       512\n",
       "Traffic                    512\n",
       "Senior                     470\n",
       "Construction               452\n",
       "Lieutenant-Emt             394\n",
       "Administrative             375\n",
       "Library                    365\n",
       "Librarian                  335\n",
       "Lieutenant                 332\n",
       "Operating                  324\n",
       "Electrical                 313\n",
       "Aviation                   309\n",
       "Firefighter/Paramedic      259\n",
       "General                    257\n",
       "Staff                      250\n",
       "Clerk                      242\n",
       "Foreman                    237\n",
       "Hoisting                   214\n",
       "Deputy                     213\n",
       "Machinist                  210\n",
       "                         ...  \n",
       "Equal                        1\n",
       "Assoc                        1\n",
       "Manager-Fleet                1\n",
       "Hate                         1\n",
       "Development                  1\n",
       "Portfolio                    1\n",
       "Criminalist                  1\n",
       "Chairperson                  1\n",
       "Mayor                        1\n",
       "Subpoena                     1\n",
       "Dentist                      1\n",
       "Production                   1\n",
       "Loan                         1\n",
       "Employee                     1\n",
       "Inspector                    1\n",
       "Offset                       1\n",
       "Analyst                      1\n",
       "Structural                   1\n",
       "Prepress                     1\n",
       "Purchasing                   1\n",
       "Comm                         1\n",
       "Mobile                       1\n",
       "Curator                      1\n",
       "Asbestos                     1\n",
       "Warranty                     1\n",
       "Leasing                      1\n",
       "Telecommunications           1\n",
       "Supervisor                   1\n",
       "Photographer                 1\n",
       "Commander-Paramedic          1\n",
       "Name: Position Title, Length: 320, dtype: int64"
      ]
     },
     "execution_count": 58,
     "metadata": {},
     "output_type": "execute_result"
    }
   ],
   "source": [
    "chicago['Position Title'].str.split(\" \").str.get(0).str.title().value_counts()"
   ]
  },
  {
   "cell_type": "code",
   "execution_count": null,
   "metadata": {},
   "outputs": [],
   "source": []
  },
  {
   "cell_type": "code",
   "execution_count": null,
   "metadata": {},
   "outputs": [],
   "source": []
  },
  {
   "cell_type": "code",
   "execution_count": null,
   "metadata": {},
   "outputs": [],
   "source": []
  },
  {
   "cell_type": "code",
   "execution_count": null,
   "metadata": {},
   "outputs": [],
   "source": []
  },
  {
   "cell_type": "code",
   "execution_count": null,
   "metadata": {},
   "outputs": [],
   "source": []
  },
  {
   "cell_type": "code",
   "execution_count": null,
   "metadata": {},
   "outputs": [],
   "source": []
  },
  {
   "cell_type": "code",
   "execution_count": null,
   "metadata": {},
   "outputs": [],
   "source": []
  },
  {
   "cell_type": "code",
   "execution_count": null,
   "metadata": {},
   "outputs": [],
   "source": []
  },
  {
   "cell_type": "code",
   "execution_count": null,
   "metadata": {},
   "outputs": [],
   "source": []
  },
  {
   "cell_type": "code",
   "execution_count": null,
   "metadata": {},
   "outputs": [],
   "source": []
  }
 ],
 "metadata": {
  "kernelspec": {
   "display_name": "Python 3",
   "language": "python",
   "name": "python3"
  },
  "language_info": {
   "codemirror_mode": {
    "name": "ipython",
    "version": 3
   },
   "file_extension": ".py",
   "mimetype": "text/x-python",
   "name": "python",
   "nbconvert_exporter": "python",
   "pygments_lexer": "ipython3",
   "version": "3.7.2"
  }
 },
 "nbformat": 4,
 "nbformat_minor": 2
}
